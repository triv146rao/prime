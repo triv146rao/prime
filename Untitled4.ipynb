{
  "nbformat": 4,
  "nbformat_minor": 0,
  "metadata": {
    "colab": {
      "provenance": [],
      "authorship_tag": "ABX9TyOEwbSOjG0ju/dYrPj8gByS",
      "include_colab_link": true
    },
    "kernelspec": {
      "name": "python3",
      "display_name": "Python 3"
    },
    "language_info": {
      "name": "python"
    }
  },
  "cells": [
    {
      "cell_type": "markdown",
      "metadata": {
        "id": "view-in-github",
        "colab_type": "text"
      },
      "source": [
        "<a href=\"https://colab.research.google.com/github/triv146rao/prime/blob/main/Untitled4.ipynb\" target=\"_parent\"><img src=\"https://colab.research.google.com/assets/colab-badge.svg\" alt=\"Open In Colab\"/></a>"
      ]
    },
    {
      "cell_type": "code",
      "execution_count": 4,
      "metadata": {
        "colab": {
          "base_uri": "https://localhost:8080/"
        },
        "id": "ERCoS427Vnd8",
        "outputId": "7479d0e5-625b-42e3-8a6c-193133017d88"
      },
      "outputs": [
        {
          "output_type": "stream",
          "name": "stdout",
          "text": [
            "       a     b       c       d     e       f    g\n",
            "0  sunny  warm  normal  strong  warm    same  yes\n",
            "1  sunny  warm    high  strong  warm    same  yes\n",
            "2  rainy  cold    high  strong  warm  change   no\n",
            "3  sunny  warm    high  strong  cool  change  yes\n",
            "4  sunny  warm    high  strong  cool  change  yes\n",
            "5  sunny  warm    high  strong  warm    same  yes\n",
            "Concepts [['sunny' 'warm' 'normal' 'strong' 'warm' 'same']\n",
            " ['sunny' 'warm' 'high' 'strong' 'warm' 'same']\n",
            " ['rainy' 'cold' 'high' 'strong' 'warm' 'change']\n",
            " ['sunny' 'warm' 'high' 'strong' 'cool' 'change']\n",
            " ['sunny' 'warm' 'high' 'strong' 'cool' 'change']\n",
            " ['sunny' 'warm' 'high' 'strong' 'warm' 'same']]\n",
            "Target ['yes' 'yes' 'no' 'yes' 'yes' 'yes']\n",
            "['sunny' 'warm' 'normal' 'strong' 'warm' 'same']\n",
            "[['?', '?', '?', '?', '?', '?'], ['?', '?', '?', '?', '?', '?'], ['?', '?', '?', '?', '?', '?'], ['?', '?', '?', '?', '?', '?'], ['?', '?', '?', '?', '?', '?'], ['?', '?', '?', '?', '?', '?']]\n",
            "1\n",
            "with instance ['sunny' 'warm' 'normal' 'strong' 'warm' 'same']\n",
            "Specific Value ['sunny' 'warm' 'normal' 'strong' 'warm' 'same']\n",
            "Generic Value [['?', '?', '?', '?', '?', '?'], ['?', '?', '?', '?', '?', '?'], ['?', '?', '?', '?', '?', '?'], ['?', '?', '?', '?', '?', '?'], ['?', '?', '?', '?', '?', '?'], ['?', '?', '?', '?', '?', '?']]\n",
            "2\n",
            "with instance ['sunny' 'warm' 'high' 'strong' 'warm' 'same']\n",
            "Specific Value ['sunny' 'warm' '?' 'strong' 'warm' 'same']\n",
            "Generic Value [['?', '?', '?', '?', '?', '?'], ['?', '?', '?', '?', '?', '?'], ['?', '?', '?', '?', '?', '?'], ['?', '?', '?', '?', '?', '?'], ['?', '?', '?', '?', '?', '?'], ['?', '?', '?', '?', '?', '?']]\n",
            "3\n",
            "with instance ['rainy' 'cold' 'high' 'strong' 'warm' 'change']\n",
            "Specific Value ['sunny' 'warm' '?' 'strong' 'warm' 'same']\n",
            "Generic Value [['sunny', '?', '?', '?', '?', '?'], ['?', 'warm', '?', '?', '?', '?'], ['?', '?', '?', '?', '?', '?'], ['?', '?', '?', '?', '?', '?'], ['?', '?', '?', '?', '?', '?'], ['?', '?', '?', '?', '?', 'same']]\n",
            "4\n",
            "with instance ['sunny' 'warm' 'high' 'strong' 'cool' 'change']\n",
            "Specific Value ['sunny' 'warm' '?' 'strong' '?' '?']\n",
            "Generic Value [['sunny', '?', '?', '?', '?', '?'], ['?', 'warm', '?', '?', '?', '?'], ['?', '?', '?', '?', '?', '?'], ['?', '?', '?', '?', '?', '?'], ['?', '?', '?', '?', '?', '?'], ['?', '?', '?', '?', '?', '?']]\n",
            "5\n",
            "with instance ['sunny' 'warm' 'high' 'strong' 'cool' 'change']\n",
            "Specific Value ['sunny' 'warm' '?' 'strong' '?' '?']\n",
            "Generic Value [['sunny', '?', '?', '?', '?', '?'], ['?', 'warm', '?', '?', '?', '?'], ['?', '?', '?', '?', '?', '?'], ['?', '?', '?', '?', '?', '?'], ['?', '?', '?', '?', '?', '?'], ['?', '?', '?', '?', '?', '?']]\n",
            "6\n",
            "with instance ['sunny' 'warm' 'high' 'strong' 'warm' 'same']\n",
            "Specific Value ['sunny' 'warm' '?' 'strong' '?' '?']\n",
            "Generic Value [['sunny', '?', '?', '?', '?', '?'], ['?', 'warm', '?', '?', '?', '?'], ['?', '?', '?', '?', '?', '?'], ['?', '?', '?', '?', '?', '?'], ['?', '?', '?', '?', '?', '?'], ['?', '?', '?', '?', '?', '?']]\n",
            "Final S:\n",
            "['sunny' 'warm' '?' 'strong' '?' '?']\n",
            "Final G:\n",
            "[['sunny', '?', '?', '?', '?', '?'], ['?', 'warm', '?', '?', '?', '?']]\n"
          ]
        }
      ],
      "source": [
        "import numpy as np\n",
        "import pandas as pd\n",
        "data=pd.read_csv('/content/sample_data/data.csv')\n",
        "print(data)\n",
        "concepts = np.array(data.iloc[:,0:-1])\n",
        "target = np.array(data.iloc[:,-1])\n",
        "print(\"Concepts\",concepts)\n",
        "print(\"Target\",target)\n",
        "def learn(concepts,target):\n",
        "    for i, val in enumerate(target):\n",
        "        if val== 'yes':\n",
        "            break\n",
        "    specific_h = concepts[i].copy()\n",
        "    print(specific_h)\n",
        "    generic_h = [[\"?\"for i in range(len(specific_h))]for i in range(len(specific_h))]\n",
        "    print(generic_h)\n",
        "    for i, h in enumerate(concepts):\n",
        "        print(i+1)\n",
        "        print(\"with instance\",h)\n",
        "        if target[i]==\"yes\":\n",
        "            for x in range(len(specific_h)):\n",
        "                if h[x]!=specific_h[x]:\n",
        "                    specific_h[x]=\"?\"\n",
        "                    generic_h[x][x]=\"?\"\n",
        "            print(\"Specific Value\",specific_h)\n",
        "            print(\"Generic Value\",generic_h)\n",
        "        if target[i]==\"no\":\n",
        "            for x in range(len(specific_h)):\n",
        "                if h[x]!=specific_h[x]:\n",
        "                    generic_h[x][x]=specific_h[x]\n",
        "                else:\n",
        "                    generic_h[x][x]==\"?\"\n",
        "            print(\"Specific Value\",specific_h)\n",
        "            print(\"Generic Value\",generic_h)\n",
        "    indices = [i for i, val in enumerate(generic_h) if val == ['?','?','?','?','?','?']]\n",
        "    for i in indices:\n",
        "        generic_h.remove(['?','?','?','?','?','?'])\n",
        "    return specific_h,generic_h\n",
        "s_final,g_final=learn(concepts,target)\n",
        "print(\"Final S:\",s_final,sep=\"\\n\")\n",
        "print(\"Final G:\",g_final,sep=\"\\n\")"
      ]
    }
  ]
}